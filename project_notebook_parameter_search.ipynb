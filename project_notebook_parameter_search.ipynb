{
 "cells": [
  {
   "cell_type": "markdown",
   "id": "f9990dd1-55e2-47ec-a00b-680ad469d385",
   "metadata": {
    "tags": []
   },
   "source": [
    "# Data Processsing"
   ]
  },
  {
   "cell_type": "code",
   "execution_count": 1,
   "id": "ba5e981a-992c-48b9-9452-436372ea4780",
   "metadata": {
    "tags": []
   },
   "outputs": [],
   "source": [
    "train_dir = '/home/ec2-user/SageMaker/train/'\n",
    "test_dir = '/home/ec2-user/SageMaker/test/'\n",
    "files_dir = '/home/ec2-user/SageMaker/'"
   ]
  },
  {
   "cell_type": "markdown",
   "id": "2ea98b6f-e90f-41d7-b0e1-a2e2251c0fae",
   "metadata": {
    "tags": []
   },
   "source": [
    "## Labels"
   ]
  },
  {
   "cell_type": "code",
   "execution_count": 2,
   "id": "78da7f2d-39f0-4dd3-8c0b-b244a03dd239",
   "metadata": {
    "tags": []
   },
   "outputs": [
    {
     "name": "stdout",
     "output_type": "stream",
     "text": [
      "{'0': 'Cassava Bacterial Blight (CBB)', '1': 'Cassava Brown Streak Disease (CBSD)', '2': 'Cassava Green Mottle (CGM)', '3': 'Cassava Mosaic Disease (CMD)', '4': 'Healthy'}\n"
     ]
    }
   ],
   "source": [
    "import json\n",
    "\n",
    "with open(files_dir + '/label_num_to_disease_map.json', 'r') as f:\n",
    "    labels_info = json.load(f)\n",
    "\n",
    "NUM_LABELS = len(labels_info)\n",
    "print(labels_info)"
   ]
  },
  {
   "cell_type": "markdown",
   "id": "02487866-ac62-4be0-af45-b40992c3b443",
   "metadata": {},
   "source": [
    "## Load Data with Pytorch"
   ]
  },
  {
   "cell_type": "code",
   "execution_count": 3,
   "id": "fb67fef6-1e4a-408c-9ad9-dcb6069a13f0",
   "metadata": {},
   "outputs": [],
   "source": [
    "import pandas as pd\n",
    "import os\n",
    "import torch\n",
    "from torch.utils.data import Dataset, DataLoader\n",
    "\n",
    "from torchvision.datasets import ImageFolder\n",
    "import torchvision.transforms as transforms\n",
    "from PIL import Image\n",
    "from sklearn.model_selection import train_test_split"
   ]
  },
  {
   "cell_type": "code",
   "execution_count": 4,
   "id": "90fe6ee1-7575-47d9-bb8b-a0366ae5b3a7",
   "metadata": {},
   "outputs": [],
   "source": [
    "df = pd.read_csv(files_dir + '/train.csv')\n",
    "\n",
    "# Split the data into train, validation, and test sets with a ratio of 80:10:10\n",
    "train_df, val_test_df = train_test_split(df, test_size=0.2, random_state=42)\n",
    "val_df, test_df = train_test_split(val_test_df, test_size=0.5, random_state=42)"
   ]
  },
  {
   "cell_type": "code",
   "execution_count": 5,
   "id": "43b0a563-8a8f-4b3a-8e87-488765ddb558",
   "metadata": {},
   "outputs": [],
   "source": [
    "class CassavaDataset(Dataset):\n",
    "    def __init__(self, data, root_dir, transform=None):\n",
    "        self.image_labels = data\n",
    "        self.root_dir = root_dir\n",
    "        self.transform = transform\n",
    "\n",
    "    def __len__(self):\n",
    "        return len(self.image_labels)\n",
    "\n",
    "    def __getitem__(self, index):\n",
    "        img_path = os.path.join(self.root_dir, self.image_labels.iloc[index, 0])\n",
    "        image = Image.open(img_path).convert('RGB')\n",
    "        label = self.image_labels.iloc[index, 1]\n",
    "        if self.transform:\n",
    "            image = self.transform(image)\n",
    "        return image, label"
   ]
  },
  {
   "cell_type": "markdown",
   "id": "a77600d7-bd04-4448-a357-7a1006609378",
   "metadata": {},
   "source": [
    "# Useful Functions"
   ]
  },
  {
   "cell_type": "code",
   "execution_count": 6,
   "id": "869486d9-c095-405f-8e5c-e12b77631f2a",
   "metadata": {},
   "outputs": [],
   "source": [
    "# Save the model so that we don't need to train the same model multiple times\n",
    "def save_model(model, model_name):\n",
    "  torch.save(model.state_dict(),  files_dir + 'parameter_search_models/' + model_name + '.pth')"
   ]
  },
  {
   "cell_type": "markdown",
   "id": "da4568ff-1eb8-4234-a013-751fadff0019",
   "metadata": {},
   "source": [
    "# Training with Resnet with parameter search"
   ]
  },
  {
   "cell_type": "code",
   "execution_count": 7,
   "id": "5d2b1a54-6d54-4926-b5ec-d66fc65c8768",
   "metadata": {
    "scrolled": true
   },
   "outputs": [
    {
     "name": "stdout",
     "output_type": "stream",
     "text": [
      "We're using: cuda\n"
     ]
    }
   ],
   "source": [
    "device = torch.device(\"cuda\" if torch.cuda.is_available() else \"cpu\")\n",
    "print(\"We're using:\", device)"
   ]
  },
  {
   "cell_type": "code",
   "execution_count": 8,
   "id": "11057991",
   "metadata": {},
   "outputs": [],
   "source": [
    "# Train and validate function\n",
    "def train_and_validate(model, train_loader, valid_loader, test_loader, optimizer, criterion):\n",
    "    # return train accuracy, validation accuracy, test accuracy\n",
    "    \n",
    "    EPOCHS = 5 # Each epoch takes around 16 minutes\n",
    "    \n",
    "    train_loss, validation_loss = [], []\n",
    "    train_acc, validation_acc = [], []\n",
    "\n",
    "    for epoch in range(EPOCHS):\n",
    "        # print(\"Training Epoch: \", epoch)\n",
    "        batch_num = 0\n",
    "\n",
    "        model.train()\n",
    "        running_loss = 0.\n",
    "        correct, total = 0, 0 \n",
    "\n",
    "        for inputs, labels in train_loader:\n",
    "            batch_num += 1\n",
    "            # print(\"Current Batch: \", batch_num)\n",
    "            # Forward pass\n",
    "            inputs = inputs.to(device)\n",
    "            labels = labels.to(device)\n",
    "\n",
    "            predictions = model(inputs)\n",
    "            loss = criterion(predictions, labels)\n",
    "\n",
    "            # Backward and optimize\n",
    "            optimizer.zero_grad()\n",
    "            loss.backward()\n",
    "            optimizer.step()\n",
    "\n",
    "            running_loss += loss.item()\n",
    "\n",
    "            _, predicted = torch.max(predictions, 1)\n",
    "            total += labels.size(0)\n",
    "            correct += (predicted == labels).sum().item()\n",
    "\n",
    "        train_loss.append(running_loss / len(train_loader))\n",
    "        train_acc.append(correct/total)\n",
    "\n",
    "        model.eval()\n",
    "        running_loss = 0.\n",
    "        correct, total = 0, 0 \n",
    "\n",
    "        for inputs, labels in val_loader:\n",
    "            inputs = inputs.to(device)\n",
    "            labels = labels.to(device)\n",
    "\n",
    "            predictions = model(inputs)\n",
    "\n",
    "            loss = criterion(predictions, labels)\n",
    "\n",
    "            running_loss += loss.item()\n",
    "\n",
    "            _, predicted = torch.max(predictions, 1)\n",
    "            total += labels.size(0)\n",
    "            correct += (predicted == labels).sum().item()\n",
    "\n",
    "        validation_loss.append(running_loss / len(val_loader))\n",
    "        validation_acc.append(correct/total)\n",
    "        \n",
    "    \n",
    "    \n",
    "    # Calculate the test accuracy \n",
    "    import numpy as np\n",
    "    model.eval()\n",
    "\n",
    "    test_predictions = np.array([])\n",
    "\n",
    "    total = 0\n",
    "    correct = 0\n",
    "\n",
    "    for inputs, labels in test_loader:\n",
    "\n",
    "        inputs = inputs.to(device)\n",
    "        labels = labels.to(device)\n",
    "\n",
    "        predictions = model(inputs)\n",
    "\n",
    "        _, predicted = torch.max(predictions, 1)\n",
    "        total += labels.size(0)\n",
    "        correct += (predicted == labels).sum().item()\n",
    "    \n",
    "    return round(train_acc[4],3), round(validation_acc[4],3), round(correct/total,3)\n",
    "    \n",
    "    "
   ]
  },
  {
   "cell_type": "code",
   "execution_count": 9,
   "id": "9a02dda4-58b7-4ccc-9f74-c41e5d5966e8",
   "metadata": {},
   "outputs": [],
   "source": [
    "from torchvision import models # resnet50, ResNet50_Weights\n",
    "\n",
    "network_depths = [50]# [18, 34, 50]  # ResNet-18, ResNet-34, and ResNet-50\n",
    "batch_sizes = [64] # [32, 64, 128]\n",
    "optimizers = ['adam']# ['adam', 'SGD']\n",
    "learning_rates = [0.001]# [1e-2, 1e-3, 1e-4]\n",
    "\n",
    "# Store accuracies for each hyperparameter combination\n",
    "hyperparams_accuracies = {}"
   ]
  },
  {
   "cell_type": "code",
   "execution_count": null,
   "id": "dcb80fcd",
   "metadata": {},
   "outputs": [
    {
     "name": "stdout",
     "output_type": "stream",
     "text": [
      "Hyperparameters and their accuracies:\n",
      "parameter search for epoch 5\n",
      "parameters: depth, batch size, optizer, learning rate: train accuracy, validation accuracy, test accuracy\n"
     ]
    }
   ],
   "source": [
    "output = open(\"parameter_search_result.txt\", 'w')\n",
    "output.write(\"parameter search results\\n\")\n",
    "                \n",
    "print(\"Hyperparameters and their accuracies:\")\n",
    "print(\"parameter search for epoch 5\")\n",
    "print(\"parameters: depth, batch size, optizer, learning rate: train accuracy, validation accuracy, test accuracy\")\n",
    "\n",
    "output.write(\"Hyperparameters and their accuracies:\\n\")\n",
    "output.write(\"parameter search for epoch 5\\n\")\n",
    "output.write(\"parameters: depth, batch size, optizer, learning rate: train accuracy, validation accuracy, test accuracy\\n\")\n",
    "\n",
    "output.flush()\n",
    "\n",
    "for depth in network_depths:\n",
    "    for batch_size in batch_sizes:\n",
    "        for opt in optimizers:\n",
    "            for learn in learning_rates:\n",
    "                if depth == 18:\n",
    "                    model = models.resnet18(weights=models.ResNet18_Weights.IMAGENET1K_V1)\n",
    "                    weights = models.ResNet18_Weights.DEFAULT\n",
    "                elif depth == 34:\n",
    "                    model = models.resnet34(weights=models.ResNet34_Weights.IMAGENET1K_V1)\n",
    "                    weights = models.ResNet34_Weights.DEFAULT\n",
    "                elif depth == 50:\n",
    "                    model = models.resnet50(weights=models.ResNet50_Weights.IMAGENET1K_V2)\n",
    "                    weights = models.ResNet50_Weights.DEFAULT\n",
    "\n",
    "                preprocess = weights.transforms()\n",
    "                transform = transforms.Compose([\n",
    "                    preprocess\n",
    "                    ])\n",
    "                train_dataset = CassavaDataset(train_df, train_dir, transform=transform)\n",
    "                validation_dataset = CassavaDataset(val_df, train_dir, transform=transform)\n",
    "                test_dataset = CassavaDataset(test_df, train_dir, transform=transform)\n",
    "\n",
    "                # Create the data loader\n",
    "                train_loader = DataLoader(train_dataset, batch_size=batch_size, shuffle=True)\n",
    "                val_loader = DataLoader(validation_dataset, batch_size=batch_size, shuffle=True)\n",
    "                test_loader = DataLoader(test_dataset, batch_size=batch_size, shuffle=False)\n",
    "\n",
    "\n",
    "                # Linear Layers\n",
    "                model.fc = torch.nn.Sequential(\n",
    "                    torch.nn.Linear(model.fc.in_features, 512),\n",
    "                    torch.nn.ReLU(),\n",
    "                    torch.nn.Linear(512, 256),\n",
    "                    torch.nn.ReLU(),\n",
    "                    torch.nn.Linear(256, NUM_LABELS)\n",
    "                )\n",
    "\n",
    "                model.to(device)\n",
    "\n",
    "                criterion = torch.nn.CrossEntropyLoss()\n",
    "                if opt == 'adam':\n",
    "                    optimizer = torch.optim.Adam(model.parameters(), lr=learn)\n",
    "                elif opt == 'SGD':\n",
    "                    optimizer = torch.optim.SGD(model.parameters(), lr=learn, momentum=0.9)\n",
    "                \n",
    "                # Train and validate the model\n",
    "                train_acc, val_acc, test_acc = train_and_validate(model, train_loader, val_loader,test_loader, optimizer, criterion)\n",
    "                \n",
    "                hyperparams_accuracies[(depth, batch_size, opt, learn)] = (train_acc, val_acc, test_acc)\n",
    "                print(f\"finish training/validate for parameters:\", (depth, batch_size, opt, learn))\n",
    "                output.write(f\"{(depth, batch_size, opt, learn)}: {(train_acc, val_acc, test_acc)}\\n\")\n",
    "                output.flush()\n",
    "                save_model(model,\"resnet\" + str(depth) + \"_batch_\" + str(batch_size)+\"_opti_\" + str(opt)+\"_lr_\"+str(int(learn*10000)))\n",
    "    \n",
    "for params, accuracy in hyperparams_accuracies.items():\n",
    "    print(f\"{params}: {accuracy}\")\n",
    "    # output.write(f\"{params}: {accuracy}\\n\")\n",
    "\n",
    "output.close()"
   ]
  },
  {
   "cell_type": "code",
   "execution_count": null,
   "id": "46b9a607",
   "metadata": {},
   "outputs": [],
   "source": []
  }
 ],
 "metadata": {
  "kernelspec": {
   "display_name": "conda_pytorch_p39",
   "language": "python",
   "name": "conda_pytorch_p39"
  },
  "language_info": {
   "codemirror_mode": {
    "name": "ipython",
    "version": 3
   },
   "file_extension": ".py",
   "mimetype": "text/x-python",
   "name": "python",
   "nbconvert_exporter": "python",
   "pygments_lexer": "ipython3",
   "version": "3.9.15"
  }
 },
 "nbformat": 4,
 "nbformat_minor": 5
}
