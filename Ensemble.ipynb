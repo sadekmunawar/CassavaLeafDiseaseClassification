{
 "cells": [
  {
   "cell_type": "markdown",
   "id": "f9990dd1-55e2-47ec-a00b-680ad469d385",
   "metadata": {
    "tags": []
   },
   "source": [
    "# Data Processsing"
   ]
  },
  {
   "cell_type": "code",
   "execution_count": 1,
   "id": "ba5e981a-992c-48b9-9452-436372ea4780",
   "metadata": {
    "tags": []
   },
   "outputs": [],
   "source": [
    "train_dir = '/home/ec2-user/SageMaker/train/'\n",
    "test_dir = '/home/ec2-user/SageMaker/test/'\n",
    "files_dir = '/home/ec2-user/SageMaker/'"
   ]
  },
  {
   "cell_type": "markdown",
   "id": "2ea98b6f-e90f-41d7-b0e1-a2e2251c0fae",
   "metadata": {
    "tags": []
   },
   "source": [
    "## Labels"
   ]
  },
  {
   "cell_type": "code",
   "execution_count": 2,
   "id": "78da7f2d-39f0-4dd3-8c0b-b244a03dd239",
   "metadata": {
    "tags": []
   },
   "outputs": [
    {
     "name": "stdout",
     "output_type": "stream",
     "text": [
      "{'0': 'Cassava Bacterial Blight (CBB)', '1': 'Cassava Brown Streak Disease (CBSD)', '2': 'Cassava Green Mottle (CGM)', '3': 'Cassava Mosaic Disease (CMD)', '4': 'Healthy'}\n"
     ]
    }
   ],
   "source": [
    "import json\n",
    "\n",
    "with open(files_dir + '/label_num_to_disease_map.json', 'r') as f:\n",
    "    labels_info = json.load(f)\n",
    "\n",
    "NUM_LABELS = len(labels_info)\n",
    "print(labels_info)"
   ]
  },
  {
   "cell_type": "markdown",
   "id": "02487866-ac62-4be0-af45-b40992c3b443",
   "metadata": {},
   "source": [
    "## Load Data with Pytorch"
   ]
  },
  {
   "cell_type": "code",
   "execution_count": 3,
   "id": "dba4ff4a-6fc9-4b20-a41e-6f5fe0d982ab",
   "metadata": {
    "tags": []
   },
   "outputs": [
    {
     "name": "stdout",
     "output_type": "stream",
     "text": [
      "Looking in indexes: https://pypi.org/simple, https://pip.repos.neuron.amazonaws.com\n",
      "Requirement already satisfied: efficientnet_pytorch in /home/ec2-user/anaconda3/envs/pytorch_p39/lib/python3.9/site-packages (0.7.1)\n",
      "Requirement already satisfied: torch in /home/ec2-user/anaconda3/envs/pytorch_p39/lib/python3.9/site-packages (1.13.1)\n",
      "Requirement already satisfied: torchvision in /home/ec2-user/anaconda3/envs/pytorch_p39/lib/python3.9/site-packages (0.14.1)\n",
      "Requirement already satisfied: typing_extensions in /home/ec2-user/anaconda3/envs/pytorch_p39/lib/python3.9/site-packages (from torch) (4.4.0)\n",
      "Requirement already satisfied: numpy in /home/ec2-user/anaconda3/envs/pytorch_p39/lib/python3.9/site-packages (from torchvision) (1.23.5)\n",
      "Requirement already satisfied: requests in /home/ec2-user/anaconda3/envs/pytorch_p39/lib/python3.9/site-packages (from torchvision) (2.28.1)\n",
      "Requirement already satisfied: pillow!=8.3.*,>=5.3.0 in /home/ec2-user/anaconda3/envs/pytorch_p39/lib/python3.9/site-packages (from torchvision) (9.2.0)\n",
      "Requirement already satisfied: charset-normalizer<3,>=2 in /home/ec2-user/anaconda3/envs/pytorch_p39/lib/python3.9/site-packages (from requests->torchvision) (2.1.1)\n",
      "Requirement already satisfied: certifi>=2017.4.17 in /home/ec2-user/anaconda3/envs/pytorch_p39/lib/python3.9/site-packages (from requests->torchvision) (2022.12.7)\n",
      "Requirement already satisfied: urllib3<1.27,>=1.21.1 in /home/ec2-user/anaconda3/envs/pytorch_p39/lib/python3.9/site-packages (from requests->torchvision) (1.26.8)\n",
      "Requirement already satisfied: idna<4,>=2.5 in /home/ec2-user/anaconda3/envs/pytorch_p39/lib/python3.9/site-packages (from requests->torchvision) (3.4)\n"
     ]
    }
   ],
   "source": [
    "!pip install efficientnet_pytorch torch torchvision;"
   ]
  },
  {
   "cell_type": "code",
   "execution_count": 4,
   "id": "47983371-be56-436c-a616-db85246ecc46",
   "metadata": {
    "tags": []
   },
   "outputs": [
    {
     "name": "stdout",
     "output_type": "stream",
     "text": [
      "Looking in indexes: https://pypi.org/simple, https://pip.repos.neuron.amazonaws.com\n",
      "Requirement already satisfied: timm in /home/ec2-user/anaconda3/envs/pytorch_p39/lib/python3.9/site-packages (0.6.13)\n",
      "Requirement already satisfied: torchvision in /home/ec2-user/anaconda3/envs/pytorch_p39/lib/python3.9/site-packages (from timm) (0.14.1)\n",
      "Requirement already satisfied: pyyaml in /home/ec2-user/anaconda3/envs/pytorch_p39/lib/python3.9/site-packages (from timm) (5.4.1)\n",
      "Requirement already satisfied: huggingface-hub in /home/ec2-user/anaconda3/envs/pytorch_p39/lib/python3.9/site-packages (from timm) (0.14.1)\n",
      "Requirement already satisfied: torch>=1.7 in /home/ec2-user/anaconda3/envs/pytorch_p39/lib/python3.9/site-packages (from timm) (1.13.1)\n",
      "Requirement already satisfied: typing_extensions in /home/ec2-user/anaconda3/envs/pytorch_p39/lib/python3.9/site-packages (from torch>=1.7->timm) (4.4.0)\n",
      "Requirement already satisfied: tqdm>=4.42.1 in /home/ec2-user/anaconda3/envs/pytorch_p39/lib/python3.9/site-packages (from huggingface-hub->timm) (4.63.2)\n",
      "Requirement already satisfied: requests in /home/ec2-user/anaconda3/envs/pytorch_p39/lib/python3.9/site-packages (from huggingface-hub->timm) (2.28.1)\n",
      "Requirement already satisfied: filelock in /home/ec2-user/anaconda3/envs/pytorch_p39/lib/python3.9/site-packages (from huggingface-hub->timm) (3.6.0)\n",
      "Requirement already satisfied: fsspec in /home/ec2-user/anaconda3/envs/pytorch_p39/lib/python3.9/site-packages (from huggingface-hub->timm) (2022.11.0)\n",
      "Requirement already satisfied: packaging>=20.9 in /home/ec2-user/anaconda3/envs/pytorch_p39/lib/python3.9/site-packages (from huggingface-hub->timm) (21.3)\n",
      "Requirement already satisfied: numpy in /home/ec2-user/anaconda3/envs/pytorch_p39/lib/python3.9/site-packages (from torchvision->timm) (1.23.5)\n",
      "Requirement already satisfied: pillow!=8.3.*,>=5.3.0 in /home/ec2-user/anaconda3/envs/pytorch_p39/lib/python3.9/site-packages (from torchvision->timm) (9.2.0)\n",
      "Requirement already satisfied: pyparsing!=3.0.5,>=2.0.2 in /home/ec2-user/anaconda3/envs/pytorch_p39/lib/python3.9/site-packages (from packaging>=20.9->huggingface-hub->timm) (3.0.9)\n",
      "Requirement already satisfied: idna<4,>=2.5 in /home/ec2-user/anaconda3/envs/pytorch_p39/lib/python3.9/site-packages (from requests->huggingface-hub->timm) (3.4)\n",
      "Requirement already satisfied: certifi>=2017.4.17 in /home/ec2-user/anaconda3/envs/pytorch_p39/lib/python3.9/site-packages (from requests->huggingface-hub->timm) (2022.12.7)\n",
      "Requirement already satisfied: urllib3<1.27,>=1.21.1 in /home/ec2-user/anaconda3/envs/pytorch_p39/lib/python3.9/site-packages (from requests->huggingface-hub->timm) (1.26.8)\n",
      "Requirement already satisfied: charset-normalizer<3,>=2 in /home/ec2-user/anaconda3/envs/pytorch_p39/lib/python3.9/site-packages (from requests->huggingface-hub->timm) (2.1.1)\n"
     ]
    }
   ],
   "source": [
    "!pip install timm;"
   ]
  },
  {
   "cell_type": "code",
   "execution_count": 5,
   "id": "fb67fef6-1e4a-408c-9ad9-dcb6069a13f0",
   "metadata": {
    "tags": []
   },
   "outputs": [],
   "source": [
    "import pandas as pd\n",
    "import numpy as np\n",
    "\n",
    "import os\n",
    "import torch\n",
    "from torch.utils.data import Dataset, DataLoader\n",
    "import torchvision.models as models\n",
    "\n",
    "from torchvision.datasets import ImageFolder\n",
    "import torchvision.transforms as transforms\n",
    "\n",
    "import timm\n",
    "from efficientnet_pytorch import EfficientNet\n",
    "\n",
    "from PIL import Image\n",
    "from sklearn.model_selection import train_test_split"
   ]
  },
  {
   "cell_type": "code",
   "execution_count": 6,
   "id": "5d2b1a54-6d54-4926-b5ec-d66fc65c8768",
   "metadata": {
    "tags": []
   },
   "outputs": [
    {
     "name": "stdout",
     "output_type": "stream",
     "text": [
      "We're using: cuda\n"
     ]
    }
   ],
   "source": [
    "device = torch.device(\"cuda\" if torch.cuda.is_available() else \"cpu\")\n",
    "print(\"We're using:\", device)"
   ]
  },
  {
   "cell_type": "markdown",
   "id": "48aaaae3-d5b6-4afc-8291-0fcadc40a5dc",
   "metadata": {},
   "source": [
    "## Test Dataset"
   ]
  },
  {
   "cell_type": "code",
   "execution_count": 7,
   "id": "43b0a563-8a8f-4b3a-8e87-488765ddb558",
   "metadata": {
    "tags": []
   },
   "outputs": [],
   "source": [
    "class CassavaDataset(Dataset):\n",
    "    def __init__(self, data, root_dir, transform=None):\n",
    "        self.image_labels = data\n",
    "        self.root_dir = root_dir\n",
    "        self.transform = transform\n",
    "\n",
    "    def __len__(self):\n",
    "        return len(self.image_labels)\n",
    "\n",
    "    def __getitem__(self, index):\n",
    "        img_path = os.path.join(self.root_dir, self.image_labels.iloc[index, 0])\n",
    "        image = Image.open(img_path).convert('RGB')\n",
    "        label = self.image_labels.iloc[index, 1]\n",
    "        \n",
    "        # ResNet Transform\n",
    "        image_resnet = self.transform['resnet'](image)\n",
    "        \n",
    "        # VT Transform\n",
    "        image_vt = self.transform['vt'](image)\n",
    "        \n",
    "        # Efficient Net Transform\n",
    "        image_efficient = self.transform['efficient'](image)\n",
    "\n",
    "        return image_resnet, image_vt, image_efficient, label"
   ]
  },
  {
   "cell_type": "code",
   "execution_count": 8,
   "id": "90fe6ee1-7575-47d9-bb8b-a0366ae5b3a7",
   "metadata": {
    "tags": []
   },
   "outputs": [],
   "source": [
    "df = pd.read_csv(files_dir + '/train.csv')\n",
    "\n",
    "# Split the data into train, validation, and test sets with a ratio of 80:10:10\n",
    "train_df, val_test_df = train_test_split(df, test_size=0.2, random_state=42)\n",
    "val_df, test_df = train_test_split(val_test_df, test_size=0.5, random_state=42)"
   ]
  },
  {
   "cell_type": "code",
   "execution_count": 9,
   "id": "bf87d13d-ea98-4809-950c-1bab7e9cc14e",
   "metadata": {
    "tags": []
   },
   "outputs": [],
   "source": [
    "# Transforms for resnet\n",
    "resnet_weights = models.ResNet50_Weights.DEFAULT\n",
    "resnet_preprocess = resnet_weights.transforms()\n",
    "resnet_transforms = transforms.Compose([\n",
    "    resnet_preprocess\n",
    "])"
   ]
  },
  {
   "cell_type": "code",
   "execution_count": 10,
   "id": "921ab0ee-9b8a-4ebe-b16a-c62fd45e4229",
   "metadata": {
    "tags": []
   },
   "outputs": [],
   "source": [
    "# transforms for VT\n",
    "vt_transforms = transforms.Compose(\n",
    "    [\n",
    "        transforms.Resize((224, 224)),\n",
    "        transforms.ToTensor(),\n",
    "        transforms.Normalize((0.485, 0.456, 0.406), (0.229, 0.224, 0.225)),\n",
    "    ]\n",
    ")"
   ]
  },
  {
   "cell_type": "code",
   "execution_count": 11,
   "id": "b06a5de0-e9f4-462a-b5ed-3a4e63055d68",
   "metadata": {
    "tags": []
   },
   "outputs": [],
   "source": [
    "# transforms for efficient\n",
    "efficient_transforms = transforms.Compose([\n",
    "    transforms.Resize(224),\n",
    "    transforms.CenterCrop(224),\n",
    "    transforms.ToTensor(),\n",
    "    transforms.Normalize([0.485, 0.456, 0.406], [0.229, 0.224, 0.225])\n",
    "])"
   ]
  },
  {
   "cell_type": "code",
   "execution_count": 12,
   "id": "82f1bf93-fd50-4b38-bf92-dc0cb18e32b3",
   "metadata": {
    "tags": []
   },
   "outputs": [],
   "source": [
    "transforms = {'resnet':resnet_transforms, 'vt': vt_transforms, 'efficient': efficient_transforms}\n",
    "test_dataset = CassavaDataset(test_df, train_dir, transform=transforms)\n",
    "test_loader = DataLoader(test_dataset, batch_size=16, shuffle=False)"
   ]
  },
  {
   "cell_type": "markdown",
   "id": "1a9db7ed-6f6e-470e-97d3-2592d2bc06a1",
   "metadata": {
    "tags": []
   },
   "source": [
    "# Saved Models"
   ]
  },
  {
   "cell_type": "markdown",
   "id": "aad07e56-5e5c-4b74-a8e3-79c26bdadf13",
   "metadata": {},
   "source": [
    "## ResNet-50"
   ]
  },
  {
   "cell_type": "code",
   "execution_count": 13,
   "id": "5563ffce-b3d5-4232-be72-e43039091a55",
   "metadata": {
    "tags": []
   },
   "outputs": [],
   "source": [
    "resnet50 = models.resnet50()\n",
    "resnet50.fc = torch.nn.Sequential(\n",
    "    torch.nn.Linear(resnet50.fc.in_features, 512),\n",
    "    torch.nn.ReLU(),\n",
    "    torch.nn.Linear(512, 256),\n",
    "    torch.nn.ReLU(),\n",
    "    torch.nn.Linear(256, NUM_LABELS)\n",
    ")\n",
    "\n",
    "resnet_state_dict = torch.load(files_dir + 'saved_models/resnet50_5_epochs_512_batch.pth')\n",
    "resnet50.load_state_dict(resnet_state_dict)\n",
    "# resnet50.to(device)\n",
    "resnet50.eval();"
   ]
  },
  {
   "cell_type": "markdown",
   "id": "060d9fd9-6bfd-4bd3-a772-7bd0564ad266",
   "metadata": {
    "tags": []
   },
   "source": [
    "## Vision Transformer"
   ]
  },
  {
   "cell_type": "code",
   "execution_count": 14,
   "id": "82fbcd52-662b-41d3-a2cc-343c4034d555",
   "metadata": {
    "tags": []
   },
   "outputs": [],
   "source": [
    "vt = timm.create_model(\"vit_base_patch16_224\", pretrained=False)\n",
    "vt.head = torch.nn.Sequential(\n",
    "    torch.nn.Linear(vt.head.in_features, 512),\n",
    "    torch.nn.ReLU(),\n",
    "    torch.nn.Linear(512, 256),\n",
    "    torch.nn.ReLU(),\n",
    "    torch.nn.Linear(256, NUM_LABELS)\n",
    ")\n",
    "\n",
    "vt_state_dict = torch.load(files_dir + 'saved_models/vit_10_epochs_16_batch.pth')\n",
    "vt.load_state_dict(vt_state_dict)\n",
    "# vt.to(device)\n",
    "vt.eval();"
   ]
  },
  {
   "cell_type": "markdown",
   "id": "74b1eb63-6b75-4db2-80c0-bac0c66a2f5a",
   "metadata": {},
   "source": [
    "## EfficientNet"
   ]
  },
  {
   "cell_type": "code",
   "execution_count": 15,
   "id": "6cb47cd3-9863-44d5-b20b-cbb5bd26ed7c",
   "metadata": {
    "tags": []
   },
   "outputs": [
    {
     "name": "stdout",
     "output_type": "stream",
     "text": [
      "Loaded pretrained weights for efficientnet-b0\n"
     ]
    }
   ],
   "source": [
    "effNet = EfficientNet.from_pretrained('efficientnet-b0')\n",
    "\n",
    "effNet._fc = torch.nn.Sequential(\n",
    "    torch.nn.Linear(effNet._fc.in_features, 512),\n",
    "    torch.nn.ReLU(),\n",
    "    torch.nn.Linear(512, 256),\n",
    "    torch.nn.ReLU(),\n",
    "    torch.nn.Linear(256, NUM_LABELS)\n",
    ")\n",
    "\n",
    "effNet_state_dict = torch.load(files_dir + 'saved_models/effNet_b0_2_ep ochs_32_batch.pth')\n",
    "effNet.load_state_dict(effNet_state_dict)\n",
    "# effNet.to(device)\n",
    "effNet.eval();"
   ]
  },
  {
   "cell_type": "markdown",
   "id": "6a759b23-3af5-4b54-b03f-4a4edf4a2394",
   "metadata": {},
   "source": [
    "# Inference using Ensemble"
   ]
  },
  {
   "cell_type": "code",
   "execution_count": 16,
   "id": "3a57bcd2-d7e2-4c4c-8823-20db85f2276f",
   "metadata": {
    "tags": []
   },
   "outputs": [
    {
     "name": "stdout",
     "output_type": "stream",
     "text": [
      "Test Accuracy:  0.861214953271028\n"
     ]
    }
   ],
   "source": [
    "# Calculate the test accuracy\n",
    "test_predictions = np.array([])\n",
    "true_labels = np.array([])\n",
    "\n",
    "total = 0\n",
    "correct = 0\n",
    "\n",
    "for resnet_input, vt_input, eff_input, labels in test_loader:\n",
    "    # labels = labels.to(device)\n",
    "    \n",
    "    # ResNet\n",
    "    # resnet_input = resnet_input.to(device)\n",
    "    resnet_predictions = resnet50(resnet_input)\n",
    "    \n",
    "    # VT\n",
    "    # vt_input = vt_input.to(device)\n",
    "    vt_predictions = vt(vt_input)\n",
    "    \n",
    "    # EfficientNet\n",
    "    # eff_input = eff_input.to(device)\n",
    "    effNet_predictions = effNet(eff_input)\n",
    "    \n",
    "    predictions = vt_predictions + resnet_predictions + effNet_predictions\n",
    "    \n",
    "    _, predicted = torch.max(predictions, 1)\n",
    "    total += labels.size(0)\n",
    "    correct += (predicted == labels).sum().item()\n",
    "    \n",
    "    true_labels = np.append(true_labels, labels.cpu().numpy())\n",
    "    test_predictions = np.concatenate((test_predictions, predicted.detach().cpu().numpy()))\n",
    "    \n",
    "print(\"Test Accuracy: \", correct/total)"
   ]
  },
  {
   "cell_type": "code",
   "execution_count": 17,
   "id": "b562161e-1d25-48ff-84ba-fdf040ae2ade",
   "metadata": {
    "tags": []
   },
   "outputs": [
    {
     "name": "stdout",
     "output_type": "stream",
     "text": [
      "Test Accuracy:  0.861214953271028\n",
      "F1 Score:  0.857112755450272\n",
      "Recall:  0.861214953271028\n",
      "Precision:  0.8584637925393761\n"
     ]
    }
   ],
   "source": [
    "from sklearn.metrics import accuracy_score, f1_score, recall_score, precision_score\n",
    "\n",
    "f1 = f1_score(true_labels, test_predictions, average='weighted')\n",
    "recall = recall_score(true_labels, test_predictions, average='weighted')\n",
    "precision = precision_score(true_labels, test_predictions, average='weighted')\n",
    "accuracy = accuracy_score(true_labels, test_predictions)\n",
    "\n",
    "# Print the accuracy, F1 score, recall, and precision\n",
    "print(\"Test Accuracy: \", accuracy)\n",
    "print(\"F1 Score: \", f1)\n",
    "print(\"Recall: \", recall)\n",
    "print(\"Precision: \", precision)"
   ]
  },
  {
   "cell_type": "code",
   "execution_count": null,
   "id": "f109c79b-c38d-4edd-964d-8ffa8791dbf5",
   "metadata": {},
   "outputs": [],
   "source": []
  }
 ],
 "metadata": {
  "kernelspec": {
   "display_name": "conda_pytorch_p39",
   "language": "python",
   "name": "conda_pytorch_p39"
  },
  "language_info": {
   "codemirror_mode": {
    "name": "ipython",
    "version": 3
   },
   "file_extension": ".py",
   "mimetype": "text/x-python",
   "name": "python",
   "nbconvert_exporter": "python",
   "pygments_lexer": "ipython3",
   "version": "3.9.15"
  }
 },
 "nbformat": 4,
 "nbformat_minor": 5
}
